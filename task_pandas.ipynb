{
 "cells": [
  {
   "cell_type": "code",
   "execution_count": 169,
   "metadata": {
    "collapsed": true
   },
   "outputs": [],
   "source": [
    "import pandas as pd\n",
    "import numpy as np\n",
    "%matplotlib inline"
   ]
  },
  {
   "cell_type": "code",
   "execution_count": 170,
   "metadata": {},
   "outputs": [
    {
     "data": {
      "text/html": [
       "<div>\n",
       "<style>\n",
       "    .dataframe thead tr:only-child th {\n",
       "        text-align: right;\n",
       "    }\n",
       "\n",
       "    .dataframe thead th {\n",
       "        text-align: left;\n",
       "    }\n",
       "\n",
       "    .dataframe tbody tr th {\n",
       "        vertical-align: top;\n",
       "    }\n",
       "</style>\n",
       "<table border=\"1\" class=\"dataframe\">\n",
       "  <thead>\n",
       "    <tr style=\"text-align: right;\">\n",
       "      <th></th>\n",
       "      <th>user_id</th>\n",
       "      <th>operator_name</th>\n",
       "      <th>content_id</th>\n",
       "      <th>content_title</th>\n",
       "      <th>show_duration</th>\n",
       "    </tr>\n",
       "  </thead>\n",
       "  <tbody>\n",
       "    <tr>\n",
       "      <th>0</th>\n",
       "      <td>827375963</td>\n",
       "      <td>Rostelecom</td>\n",
       "      <td>9966</td>\n",
       "      <td>Луна</td>\n",
       "      <td>1400</td>\n",
       "    </tr>\n",
       "    <tr>\n",
       "      <th>1</th>\n",
       "      <td>890810589</td>\n",
       "      <td>LLC TOMTEL</td>\n",
       "      <td>10140</td>\n",
       "      <td>Солдаты</td>\n",
       "      <td>1271</td>\n",
       "    </tr>\n",
       "    <tr>\n",
       "      <th>2</th>\n",
       "      <td>929088258</td>\n",
       "      <td>OJS Moscow city telephone network</td>\n",
       "      <td>9572</td>\n",
       "      <td>Мажор</td>\n",
       "      <td>30</td>\n",
       "    </tr>\n",
       "    <tr>\n",
       "      <th>3</th>\n",
       "      <td>987577016</td>\n",
       "      <td>Rostelecom</td>\n",
       "      <td>8014</td>\n",
       "      <td>Клуб Винкс – Школа волшебниц</td>\n",
       "      <td>1310</td>\n",
       "    </tr>\n",
       "    <tr>\n",
       "      <th>4</th>\n",
       "      <td>573841374</td>\n",
       "      <td>OJS Moscow city telephone network</td>\n",
       "      <td>9983</td>\n",
       "      <td>Метод</td>\n",
       "      <td>3205</td>\n",
       "    </tr>\n",
       "  </tbody>\n",
       "</table>\n",
       "</div>"
      ],
      "text/plain": [
       "     user_id                      operator_name  content_id  \\\n",
       "0  827375963                         Rostelecom        9966   \n",
       "1  890810589                         LLC TOMTEL       10140   \n",
       "2  929088258  OJS Moscow city telephone network        9572   \n",
       "3  987577016                         Rostelecom        8014   \n",
       "4  573841374  OJS Moscow city telephone network        9983   \n",
       "\n",
       "                  content_title show_duration  \n",
       "0                          Луна          1400  \n",
       "1                       Солдаты          1271  \n",
       "2                         Мажор            30  \n",
       "3  Клуб Винкс – Школа волшебниц          1310  \n",
       "4                         Метод          3205  "
      ]
     },
     "execution_count": 170,
     "metadata": {},
     "output_type": "execute_result"
    }
   ],
   "source": [
    "col_names = [\"user_id\", \"operator_name\", \"content_id\", \"content_title\", \"show_duration\"]\n",
    "content_watch = pd.read_csv('content_watch.csv',\n",
    "                 sep='\\t',\n",
    "                 header=None,\n",
    "                 names = col_names)\n",
    "content_watch.head()"
   ]
  },
  {
   "cell_type": "code",
   "execution_count": 101,
   "metadata": {},
   "outputs": [
    {
     "name": "stdout",
     "output_type": "stream",
     "text": [
      "<class 'pandas.core.frame.DataFrame'>\n",
      "RangeIndex: 20000 entries, 0 to 19999\n",
      "Data columns (total 5 columns):\n",
      "user_id          20000 non-null int64\n",
      "operator_name    20000 non-null object\n",
      "content_id       20000 non-null int64\n",
      "content_title    20000 non-null object\n",
      "show_duration    20000 non-null object\n",
      "dtypes: int64(2), object(3)\n",
      "memory usage: 781.3+ KB\n"
     ]
    }
   ],
   "source": [
    "content_watch.info()"
   ]
  },
  {
   "cell_type": "code",
   "execution_count": 171,
   "metadata": {
    "collapsed": true
   },
   "outputs": [],
   "source": [
    "content_watch['content_id'] = content_watch['content_id'].astype('object')\n",
    "content_watch['user_id'] = content_watch['user_id'].astype('object')"
   ]
  },
  {
   "cell_type": "code",
   "execution_count": 172,
   "metadata": {},
   "outputs": [
    {
     "name": "stdout",
     "output_type": "stream",
     "text": [
      "<class 'pandas.core.frame.DataFrame'>\n",
      "RangeIndex: 20000 entries, 0 to 19999\n",
      "Data columns (total 5 columns):\n",
      "user_id          20000 non-null object\n",
      "operator_name    20000 non-null object\n",
      "content_id       20000 non-null object\n",
      "content_title    20000 non-null object\n",
      "show_duration    20000 non-null int64\n",
      "dtypes: int64(1), object(4)\n",
      "memory usage: 781.3+ KB\n"
     ]
    }
   ],
   "source": [
    "content_watch['show_duration'] = content_watch['show_duration'].replace({'None': 0})\n",
    "content_watch['show_duration'] = content_watch['show_duration'].astype('int')\n",
    "content_watch.info()"
   ]
  },
  {
   "cell_type": "code",
   "execution_count": 173,
   "metadata": {},
   "outputs": [
    {
     "data": {
      "text/html": [
       "<div>\n",
       "<style>\n",
       "    .dataframe thead tr:only-child th {\n",
       "        text-align: right;\n",
       "    }\n",
       "\n",
       "    .dataframe thead th {\n",
       "        text-align: left;\n",
       "    }\n",
       "\n",
       "    .dataframe tbody tr th {\n",
       "        vertical-align: top;\n",
       "    }\n",
       "</style>\n",
       "<table border=\"1\" class=\"dataframe\">\n",
       "  <thead>\n",
       "    <tr style=\"text-align: right;\">\n",
       "      <th></th>\n",
       "      <th>user_id</th>\n",
       "      <th>operator_name</th>\n",
       "      <th>content_id</th>\n",
       "      <th>content_title</th>\n",
       "      <th>show_duration</th>\n",
       "      <th>gender</th>\n",
       "    </tr>\n",
       "  </thead>\n",
       "  <tbody>\n",
       "    <tr>\n",
       "      <th>0</th>\n",
       "      <td>827375963</td>\n",
       "      <td>Rostelecom</td>\n",
       "      <td>9966</td>\n",
       "      <td>Луна</td>\n",
       "      <td>1400</td>\n",
       "      <td>0</td>\n",
       "    </tr>\n",
       "    <tr>\n",
       "      <th>1</th>\n",
       "      <td>890810589</td>\n",
       "      <td>LLC TOMTEL</td>\n",
       "      <td>10140</td>\n",
       "      <td>Солдаты</td>\n",
       "      <td>1271</td>\n",
       "      <td>1</td>\n",
       "    </tr>\n",
       "    <tr>\n",
       "      <th>2</th>\n",
       "      <td>929088258</td>\n",
       "      <td>OJS Moscow city telephone network</td>\n",
       "      <td>9572</td>\n",
       "      <td>Мажор</td>\n",
       "      <td>30</td>\n",
       "      <td>0</td>\n",
       "    </tr>\n",
       "    <tr>\n",
       "      <th>3</th>\n",
       "      <td>987577016</td>\n",
       "      <td>Rostelecom</td>\n",
       "      <td>8014</td>\n",
       "      <td>Клуб Винкс – Школа волшебниц</td>\n",
       "      <td>1310</td>\n",
       "      <td>0</td>\n",
       "    </tr>\n",
       "    <tr>\n",
       "      <th>4</th>\n",
       "      <td>573841374</td>\n",
       "      <td>OJS Moscow city telephone network</td>\n",
       "      <td>9983</td>\n",
       "      <td>Метод</td>\n",
       "      <td>3205</td>\n",
       "      <td>0</td>\n",
       "    </tr>\n",
       "  </tbody>\n",
       "</table>\n",
       "</div>"
      ],
      "text/plain": [
       "     user_id                      operator_name content_id  \\\n",
       "0  827375963                         Rostelecom       9966   \n",
       "1  890810589                         LLC TOMTEL      10140   \n",
       "2  929088258  OJS Moscow city telephone network       9572   \n",
       "3  987577016                         Rostelecom       8014   \n",
       "4  573841374  OJS Moscow city telephone network       9983   \n",
       "\n",
       "                  content_title  show_duration  gender  \n",
       "0                          Луна           1400       0  \n",
       "1                       Солдаты           1271       1  \n",
       "2                         Мажор             30       0  \n",
       "3  Клуб Винкс – Школа волшебниц           1310       0  \n",
       "4                         Метод           3205       0  "
      ]
     },
     "execution_count": 173,
     "metadata": {},
     "output_type": "execute_result"
    }
   ],
   "source": [
    "male_prob = 0.4\n",
    "content_watch[\"gender\"] = np.random.binomial(1, male_prob, content_watch.shape[0])\n",
    "content_watch.head()"
   ]
  },
  {
   "cell_type": "markdown",
   "metadata": {},
   "source": [
    "**Какой фильм был просмотрен максимальным количеством человек?\n",
    "Какой пользователь посмотрел больше всех фильмов? **"
   ]
  },
  {
   "cell_type": "code",
   "execution_count": 167,
   "metadata": {},
   "outputs": [
    {
     "data": {
      "text/plain": [
       "Мастер и Маргарита    1586\n",
       "Name: content_title, dtype: int64"
      ]
     },
     "execution_count": 167,
     "metadata": {},
     "output_type": "execute_result"
    }
   ],
   "source": [
    "content_watch[content_watch['show_duration'] != 0].drop_duplicates(['user_id', 'content_title'])\\\n",
    "    ['content_title'].value_counts().head(1)"
   ]
  },
  {
   "cell_type": "code",
   "execution_count": 168,
   "metadata": {},
   "outputs": [
    {
     "data": {
      "text/plain": [
       "446413452    6\n",
       "Name: user_id, dtype: int64"
      ]
     },
     "execution_count": 168,
     "metadata": {},
     "output_type": "execute_result"
    }
   ],
   "source": [
    "#content_watch.drop_duplicates(['user_id', 'content_title'])['user_id'].value_counts().head()\n",
    "content_watch[content_watch['show_duration'] != 0].drop_duplicates(['user_id', 'content_title'])\\\n",
    "    ['user_id'].value_counts().head(1)"
   ]
  },
  {
   "cell_type": "markdown",
   "metadata": {},
   "source": [
    "** У какого оператора больше всего пользователей? **"
   ]
  },
  {
   "cell_type": "code",
   "execution_count": 130,
   "metadata": {},
   "outputs": [
    {
     "data": {
      "text/plain": [
       "Rostelecom    2230\n",
       "Name: operator_name, dtype: int64"
      ]
     },
     "execution_count": 130,
     "metadata": {},
     "output_type": "execute_result"
    }
   ],
   "source": [
    "content_watch.drop_duplicates('user_id')['operator_name'].value_counts().head(1)"
   ]
  },
  {
   "cell_type": "markdown",
   "metadata": {},
   "source": [
    "** Постройте любую визуализацию с помощью метода plot **"
   ]
  },
  {
   "cell_type": "code",
   "execution_count": 114,
   "metadata": {},
   "outputs": [
    {
     "data": {
      "text/plain": [
       "<matplotlib.axes._subplots.AxesSubplot at 0x7f0f6db54518>"
      ]
     },
     "execution_count": 114,
     "metadata": {},
     "output_type": "execute_result"
    },
    {
     "data": {
      "image/png": "[encoded data removed]",
      "text/plain": [
       "<matplotlib.figure.Figure at 0x7f0f6cc18748>"
      ]
     },
     "metadata": {},
     "output_type": "display_data"
    }
   ],
   "source": [
    "content_watch.groupby('user_id')['content_title']\\\n",
    "    .agg(np.count_nonzero)\\\n",
    "    .sort_values(ascending=False).head(10).plot(kind='bar')"
   ]
  },
  {
   "cell_type": "code",
   "execution_count": 111,
   "metadata": {},
   "outputs": [
    {
     "data": {
      "text/plain": [
       "<matplotlib.axes._subplots.AxesSubplot at 0x7f0f6d1c1c18>"
      ]
     },
     "execution_count": 111,
     "metadata": {},
     "output_type": "execute_result"
    },
    {
     "data": {
      "image/png": "[encoded data removed]",
      "text/plain": [
       "<matplotlib.figure.Figure at 0x7f0f6d1ac6d8>"
      ]
     },
     "metadata": {},
     "output_type": "display_data"
    }
   ],
   "source": [
    "content_watch.drop_duplicates(['user_id', 'content_title']).groupby('user_id')['content_title']\\\n",
    "    .agg(np.count_nonzero)\\\n",
    "    .sort_values(ascending=False).head(10).plot(kind='bar')"
   ]
  },
  {
   "cell_type": "code",
   "execution_count": 116,
   "metadata": {},
   "outputs": [
    {
     "data": {
      "text/plain": [
       "<matplotlib.axes._subplots.AxesSubplot at 0x7f0f6d598a20>"
      ]
     },
     "execution_count": 116,
     "metadata": {},
     "output_type": "execute_result"
    },
    {
     "data": {
      "image/png": "[encoded data removed]",
      "text/plain": [
       "<matplotlib.figure.Figure at 0x7f0f6d5aeac8>"
      ]
     },
     "metadata": {},
     "output_type": "display_data"
    }
   ],
   "source": [
    "content_watch['show_duration'].hist()"
   ]
  },
  {
   "cell_type": "markdown",
   "metadata": {},
   "source": [
    "** Какой средний показатель по числу просмотренных фильмов среди мужчин - пользователей Ростелекома? **"
   ]
  },
  {
   "cell_type": "code",
   "execution_count": 166,
   "metadata": {},
   "outputs": [
    {
     "data": {
      "text/plain": [
       "1.6857610474631752"
      ]
     },
     "execution_count": 166,
     "metadata": {},
     "output_type": "execute_result"
    }
   ],
   "source": [
    "content_watch[(content_watch['gender'] == 1) & (content_watch['operator_name'] == 'Rostelecom')]\\\n",
    "    .groupby('user_id')['content_title'].agg(np.count_nonzero).mean()"
   ]
  },
  {
   "cell_type": "markdown",
   "metadata": {},
   "source": [
    "**Построить по данным файла content_watch.csv матрицу user-item **\n",
    "\n",
    "В матрице должно быть 2 столбца\n",
    "\n",
    "Первый столбец - user_id\n",
    "\n",
    "Второй столбец - list из content_id, которые смотрел user_id. Оставлять нужно только уникальные id контента - повторов быть не должно "
   ]
  },
  {
   "cell_type": "code",
   "execution_count": 185,
   "metadata": {},
   "outputs": [
    {
     "data": {
      "text/html": [
       "<div>\n",
       "<style>\n",
       "    .dataframe thead tr:only-child th {\n",
       "        text-align: right;\n",
       "    }\n",
       "\n",
       "    .dataframe thead th {\n",
       "        text-align: left;\n",
       "    }\n",
       "\n",
       "    .dataframe tbody tr th {\n",
       "        vertical-align: top;\n",
       "    }\n",
       "</style>\n",
       "<table border=\"1\" class=\"dataframe\">\n",
       "  <thead>\n",
       "    <tr style=\"text-align: right;\">\n",
       "      <th></th>\n",
       "      <th>content_id</th>\n",
       "    </tr>\n",
       "    <tr>\n",
       "      <th>user_id</th>\n",
       "      <th></th>\n",
       "    </tr>\n",
       "  </thead>\n",
       "  <tbody>\n",
       "    <tr>\n",
       "      <th>46429</th>\n",
       "      <td>[11047]</td>\n",
       "    </tr>\n",
       "    <tr>\n",
       "      <th>133989</th>\n",
       "      <td>[11047]</td>\n",
       "    </tr>\n",
       "    <tr>\n",
       "      <th>234092</th>\n",
       "      <td>[10183]</td>\n",
       "    </tr>\n",
       "    <tr>\n",
       "      <th>535270</th>\n",
       "      <td>[9983]</td>\n",
       "    </tr>\n",
       "    <tr>\n",
       "      <th>540203</th>\n",
       "      <td>[8706]</td>\n",
       "    </tr>\n",
       "  </tbody>\n",
       "</table>\n",
       "</div>"
      ],
      "text/plain": [
       "        content_id\n",
       "user_id           \n",
       "46429      [11047]\n",
       "133989     [11047]\n",
       "234092     [10183]\n",
       "535270      [9983]\n",
       "540203      [8706]"
      ]
     },
     "execution_count": 185,
     "metadata": {},
     "output_type": "execute_result"
    }
   ],
   "source": [
    "user_item = pd.DataFrame(content_watch.drop_duplicates(['user_id', 'content_id']).groupby('user_id')['content_id']\\\n",
    "    .apply(lambda content: list(content)))\n",
    "user_item.head()    "
   ]
  },
  {
   "cell_type": "code",
   "execution_count": null,
   "metadata": {
    "collapsed": true
   },
   "outputs": [],
   "source": []
  }
 ],
 "metadata": {
  "kernelspec": {
   "display_name": "Python 3",
   "language": "python",
   "name": "python3"
  },
  "language_info": {
   "codemirror_mode": {
    "name": "ipython",
    "version": 3
   },
   "file_extension": ".py",
   "mimetype": "text/x-python",
   "name": "python",
   "nbconvert_exporter": "python",
   "pygments_lexer": "ipython3",
   "version": "3.5.2"
  }
 },
 "nbformat": 4,
 "nbformat_minor": 2
}
