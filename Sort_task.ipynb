{
 "cells": [
  {
   "cell_type": "code",
   "execution_count": 66,
   "metadata": {
    "collapsed": true
   },
   "outputs": [],
   "source": [
    "# Сортировка пузырьком\n",
    "def bubble_sort(a):\n",
    "    x = a[0]\n",
    "    for k in range(len(a)):\n",
    "        for i in range(1,len(a)-k):\n",
    "            if a[i-1] > a[i]:\n",
    "                a[i-1], a[i] = a[i], a[i-1]\n",
    "    return a       "
   ]
  },
  {
   "cell_type": "code",
   "execution_count": 118,
   "metadata": {
    "collapsed": true
   },
   "outputs": [],
   "source": [
    "# Сортировка вставками\n",
    "def insert_sort(a):\n",
    "    for i in range(len(a)):\n",
    "        x = a[i]\n",
    "        j = i  \n",
    "        while j > 0 and a[j-1] > x:\n",
    "            a[j] = a[j-1]\n",
    "            j -= 1\n",
    "        a[j] = x    \n",
    "    return a"
   ]
  },
  {
   "cell_type": "code",
   "execution_count": 4,
   "metadata": {
    "collapsed": true
   },
   "outputs": [],
   "source": [
    "# быстрая сортировка\n",
    "def quick_sort(a, b, e):\n",
    "    if e - b > 0:\n",
    "        p = a[e]\n",
    "        bor = b\n",
    "        for i in range(b, e):\n",
    "            if a[i] < p:\n",
    "                a[i], a[bor] = a[bor], a[i]\n",
    "                bor += 1\n",
    "        a[e], a[bor] = a[bor], a[e]   \n",
    "        quick_sort(a, b, bor-1)\n",
    "        quick_sort(a, bor+1, e)\n",
    "    return a   \n",
    "# quicksort(a, 0, len(a)-1)"
   ]
  },
  {
   "cell_type": "code",
   "execution_count": 5,
   "metadata": {},
   "outputs": [
    {
     "name": "stdout",
     "output_type": "stream",
     "text": [
      "[1, 2, 3, 5, 9, 10]\n"
     ]
    }
   ],
   "source": [
    "a1 = [5, 3, 9, 10, 1, 2]\n",
    "print(quick_sort(a1, 0, len(a1)-1))"
   ]
  },
  {
   "cell_type": "code",
   "execution_count": 87,
   "metadata": {
    "collapsed": true
   },
   "outputs": [],
   "source": [
    "import numpy as np # для рандома"
   ]
  },
  {
   "cell_type": "code",
   "execution_count": 88,
   "metadata": {},
   "outputs": [
    {
     "name": "stdout",
     "output_type": "stream",
     "text": [
      "Введите количество элементов 7\n",
      "Введите левую границу 2\n",
      "Введите правую границу 8\n",
      "[6 4 3 2 3 7 3]\n"
     ]
    }
   ],
   "source": [
    "# создание списка из заданного диапазона\n",
    "n = int(input('Введите количество элементов '))\n",
    "a = int(input('Введите левую границу '))\n",
    "b = int(input('Введите правую границу '))\n",
    "a2 = np.random.randint(a, b, n)\n",
    "print(a2)"
   ]
  },
  {
   "cell_type": "code",
   "execution_count": 91,
   "metadata": {},
   "outputs": [
    {
     "name": "stdout",
     "output_type": "stream",
     "text": [
      "[2 3 3 3 4 6 7]\n"
     ]
    }
   ],
   "source": [
    "print(quick_sort(a2, 0, len(a2)-1))"
   ]
  },
  {
   "cell_type": "code",
   "execution_count": 38,
   "metadata": {},
   "outputs": [],
   "source": [
    "# бинарный поиск\n",
    "def binar_search(a, elem):\n",
    "    if elem in a:\n",
    "        l, r = 0, len(a)\n",
    "        while r - l > 1:\n",
    "            mid = (l + r) // 2\n",
    "            if elem < a[mid]:\n",
    "                r = mid \n",
    "            elif elem > a[mid]:\n",
    "                l = mid\n",
    "            else:\n",
    "                return mid\n",
    "        return l        "
   ]
  },
  {
   "cell_type": "code",
   "execution_count": 40,
   "metadata": {},
   "outputs": [
    {
     "name": "stdout",
     "output_type": "stream",
     "text": [
      "3\n"
     ]
    }
   ],
   "source": [
    "print(binar_search(a1, 5))"
   ]
  }
 ],
 "metadata": {
  "kernelspec": {
   "display_name": "Python 3",
   "language": "python",
   "name": "python3"
  },
  "language_info": {
   "codemirror_mode": {
    "name": "ipython",
    "version": 3
   },
   "file_extension": ".py",
   "mimetype": "text/x-python",
   "name": "python",
   "nbconvert_exporter": "python",
   "pygments_lexer": "ipython3",
   "version": "3.5.2"
  }
 },
 "nbformat": 4,
 "nbformat_minor": 2
}
