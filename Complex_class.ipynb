{
 "cells": [
  {
   "cell_type": "code",
   "execution_count": 5,
   "metadata": {
    "collapsed": true
   },
   "outputs": [],
   "source": [
    "class Complex:\n",
    "    def __init__(self, real, imaginary):\n",
    "        self.r = real\n",
    "        self.i = imaginary\n",
    "        \n",
    "    def printnum(self):  # печать числа \n",
    "        if self.i > 0:\n",
    "            print(str(self.r)+'+'+str(self.i)+'i')\n",
    "        else:\n",
    "            print(str(self.r)+str(self.i)+'i')\n",
    "           \n",
    "    def mod(self): # модуль\n",
    "        return (self.r ** 2 + self.i ** 2) ** 0.5\n",
    "    \n",
    "    def conjugate(self): # сопряженное число \n",
    "        return Complex(self.r,  -self.i)\n",
    "        \n",
    "    def __add__(self, other):\n",
    "        return Complex(self.r + other.r, self.i + other.i)\n",
    "        \n",
    "    def __sub__(self, other):\n",
    "        return Complex(self.r - other.r, self.i - other.i)\n",
    "    \n",
    "    def __mul__(self, other):\n",
    "        return Complex(self.r * other.r - self.i * other.i, \n",
    "                       self.i * other.r + self.r * other.i)\n",
    "        \n",
    "    def __truediv__(self, other):\n",
    "        return Complex((self.r * other.r + self.i * other.i) / (other.r ** 2 + other.i ** 2), \n",
    "                       (self.i * other.r - self.r * other.i) / (other.r ** 2 + other.i ** 2))\n",
    "   "
   ]
  },
  {
   "cell_type": "code",
   "execution_count": 15,
   "metadata": {},
   "outputs": [
    {
     "name": "stderr",
     "output_type": "stream",
     "text": [
      "......\n",
      "----------------------------------------------------------------------\n",
      "Ran 6 tests in 0.006s\n",
      "\n",
      "OK\n"
     ]
    },
    {
     "data": {
      "text/plain": [
       "<unittest.runner.TextTestResult run=6 errors=0 failures=0>"
      ]
     },
     "execution_count": 15,
     "metadata": {},
     "output_type": "execute_result"
    }
   ],
   "source": [
    "from unittest import *\n",
    "\n",
    "class test_Complex(TestCase):\n",
    "    def test_conjugate(self):\n",
    "        x = Complex(5, 4)\n",
    "        y = x.conjugate()\n",
    "        self.assertEqual(y.r, 5)\n",
    "        self.assertEqual(y.i, -4)\n",
    "        \n",
    "    def test_mod(self):\n",
    "        x = Complex(3, 4)\n",
    "        y = x.mod()\n",
    "        self.assertEqual(y, 5.0)\n",
    "        \n",
    "    def test_add(self):\n",
    "        x = Complex(3, -2)\n",
    "        y = Complex(1, 1)\n",
    "        z = x + y\n",
    "        self.assertEqual(z.r, 4)\n",
    "        self.assertEqual(z.i, -1)\n",
    "        \n",
    "    def test_sub(self):\n",
    "        x = Complex(3, -2)\n",
    "        y = Complex(1, 1)\n",
    "        z = x - y\n",
    "        self.assertEqual(z.r, 2)\n",
    "        self.assertEqual(z.i, -3) \n",
    "        \n",
    "    def test_mul(self):\n",
    "        x = Complex(2, 6)\n",
    "        y = Complex(3, -1)\n",
    "        z = x * y\n",
    "        self.assertEqual(z.r, 12)\n",
    "        self.assertEqual(z.i, 16) \n",
    "        \n",
    "    def test_truediv(self):\n",
    "        x = Complex(2, 6)\n",
    "        y = Complex(3, -1)\n",
    "        z = x / y\n",
    "        self.assertEqual(z.r, 0.0)\n",
    "        self.assertEqual(z.i, 2.0)\n",
    "        \n",
    "a = test_Complex()\n",
    "\n",
    "suite = TestLoader().loadTestsFromModule(a)\n",
    "TextTestRunner().run(suite)        "
   ]
  },
  {
   "cell_type": "code",
   "execution_count": null,
   "metadata": {
    "collapsed": true
   },
   "outputs": [],
   "source": []
  }
 ],
 "metadata": {
  "kernelspec": {
   "display_name": "Python 3",
   "language": "python",
   "name": "python3"
  },
  "language_info": {
   "codemirror_mode": {
    "name": "ipython",
    "version": 3
   },
   "file_extension": ".py",
   "mimetype": "text/x-python",
   "name": "python",
   "nbconvert_exporter": "python",
   "pygments_lexer": "ipython3",
   "version": "3.5.2"
  }
 },
 "nbformat": 4,
 "nbformat_minor": 2
}
