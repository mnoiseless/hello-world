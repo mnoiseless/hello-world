{
 "cells": [
  {
   "cell_type": "code",
   "execution_count": 65,
   "metadata": {},
   "outputs": [],
   "source": [
    "class Complex:\n",
    "    def __init__(self, real, imaginary):\n",
    "        self.r = real\n",
    "        self.i = imaginary\n",
    "        \n",
    "    def printnum(self):  # печать числа \n",
    "        if self.i > 0:\n",
    "            print(str(self.r)+'+'+str(self.i)+'i')\n",
    "        else:\n",
    "            print(str(self.r)+str(self.i)+'i')\n",
    "           \n",
    "    def mod(self): # модуль\n",
    "        return (self.r ** 2 + self.i ** 2) ** 0.5\n",
    "    \n",
    "    def conjugate(self): # сопряженное число \n",
    "        self.i =  -self.i\n",
    "        \n",
    "    def summa(self, x, y):\n",
    "        self.r = self.r + x\n",
    "        self.i = self.i + y\n",
    "        \n",
    "    def minus(self, x, y):\n",
    "        self.r = self.r - x\n",
    "        self.i = self.i - y\n",
    "    \n",
    "    def multi(self, x, y):\n",
    "        a, b = self.r, self.i\n",
    "        self.r = a * x - b * y\n",
    "        self.i = b * x + a * y\n",
    "        \n",
    "    def div(self, x, y):\n",
    "        a, b = self.r, self.i\n",
    "        self.r = (a * x + b * y) / (x ** 2 + y ** 2)\n",
    "        self.i = (b * x - a * y) / (x ** 2 + y ** 2)\n",
    "        \n",
    "   "
   ]
  },
  {
   "cell_type": "code",
   "execution_count": 48,
   "metadata": {},
   "outputs": [
    {
     "name": "stdout",
     "output_type": "stream",
     "text": [
      "5+4i\n"
     ]
    }
   ],
   "source": [
    "x = Complex(5, 4)\n",
    "x.printnum()"
   ]
  },
  {
   "cell_type": "code",
   "execution_count": 49,
   "metadata": {},
   "outputs": [
    {
     "name": "stdout",
     "output_type": "stream",
     "text": [
      "5-4i\n"
     ]
    }
   ],
   "source": [
    "x.conjugate()\n",
    "x.printnum()"
   ]
  },
  {
   "cell_type": "code",
   "execution_count": 50,
   "metadata": {},
   "outputs": [
    {
     "name": "stdout",
     "output_type": "stream",
     "text": [
      "4-1i\n"
     ]
    }
   ],
   "source": [
    "y = Complex(3, -2)\n",
    "y.summa(1, 1)\n",
    "y.printnum()"
   ]
  },
  {
   "cell_type": "code",
   "execution_count": 64,
   "metadata": {},
   "outputs": [
    {
     "name": "stdout",
     "output_type": "stream",
     "text": [
      "12+16i\n"
     ]
    }
   ],
   "source": [
    "y = Complex(2, 6)\n",
    "y.multi(3, -1)\n",
    "y.printnum()"
   ]
  },
  {
   "cell_type": "code",
   "execution_count": 66,
   "metadata": {},
   "outputs": [
    {
     "name": "stdout",
     "output_type": "stream",
     "text": [
      "0.0+2.0i\n"
     ]
    }
   ],
   "source": [
    "y = Complex(2, 6)\n",
    "y.div(3, -1)\n",
    "y.printnum()"
   ]
  },
  {
   "cell_type": "code",
   "execution_count": 67,
   "metadata": {},
   "outputs": [
    {
     "data": {
      "text/plain": [
       "7.0710678118654755"
      ]
     },
     "execution_count": 67,
     "metadata": {},
     "output_type": "execute_result"
    }
   ],
   "source": [
    "z = Complex(1, 7)\n",
    "z.mod()"
   ]
  },
  {
   "cell_type": "code",
   "execution_count": null,
   "metadata": {
    "collapsed": true
   },
   "outputs": [],
   "source": []
  }
 ],
 "metadata": {
  "kernelspec": {
   "display_name": "Python 3",
   "language": "python",
   "name": "python3"
  },
  "language_info": {
   "codemirror_mode": {
    "name": "ipython",
    "version": 3
   },
   "file_extension": ".py",
   "mimetype": "text/x-python",
   "name": "python",
   "nbconvert_exporter": "python",
   "pygments_lexer": "ipython3",
   "version": "3.5.2"
  }
 },
 "nbformat": 4,
 "nbformat_minor": 2
}
