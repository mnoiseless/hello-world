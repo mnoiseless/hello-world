{
 "cells": [
  {
   "cell_type": "code",
   "execution_count": 10,
   "metadata": {},
   "outputs": [
    {
     "name": "stdout",
     "output_type": "stream",
     "text": [
      "+-------+--------------------+--------------------+------------------+-----------------+------------------+\n",
      "|summary|             user_id|       operator_name|        content_id|    content_title|     show_duration|\n",
      "+-------+--------------------+--------------------+------------------+-----------------+------------------+\n",
      "|  count|               20000|               20000|             20000|            20000|             20000|\n",
      "|   mean|   8.6525109116155E8|                null|        17391.6428|1289.111111111111|1272.5749665327978|\n",
      "| stddev|1.6811632041240516E8|                null|32636.639667408333| 958.215326067743|1294.6419975352087|\n",
      "|    min|               46429|21 Century Teleco...|               949|     #SELFIEPARTY|                 0|\n",
      "|    max|          1010558449|     umos Center LLC|            191504|Я – телохранитель|              None|\n",
      "+-------+--------------------+--------------------+------------------+-----------------+------------------+\n",
      "\n"
     ]
    },
    {
     "data": {
      "text/plain": [
       "20000"
      ]
     },
     "execution_count": 10,
     "metadata": {},
     "output_type": "execute_result"
    }
   ],
   "source": [
    "from pyspark.sql import SparkSession\n",
    "from pyspark.sql.functions import *\n",
    "from pyspark.sql.types import *\n",
    "spark = SparkSession.builder.getOrCreate()\n",
    "data = spark.read.csv(\"content_watch2.csv\",sep = '\\t', inferSchema=True, header=True).cache()\n",
    "type(data)\n",
    "data.dtypes\n",
    "data.schema\n",
    "data.describe().show()\n",
    "data.count()"
   ]
  },
  {
   "cell_type": "code",
   "execution_count": 11,
   "metadata": {
    "collapsed": true
   },
   "outputs": [],
   "source": [
    "data = data.na.replace('None', '0', 'show_duration') # заменяем None на 0 "
   ]
  },
  {
   "cell_type": "code",
   "execution_count": 12,
   "metadata": {},
   "outputs": [
    {
     "name": "stdout",
     "output_type": "stream",
     "text": [
      "+-------+--------------------+--------------------+------------------+-----------------+-----------------+\n",
      "|summary|             user_id|       operator_name|        content_id|    content_title|    show_duration|\n",
      "+-------+--------------------+--------------------+------------------+-----------------+-----------------+\n",
      "|  count|               20000|               20000|             20000|            20000|            20000|\n",
      "|   mean|   8.6525109116155E8|                null|        17391.6428|1289.111111111111|        1140.7362|\n",
      "| stddev|1.6811632041240516E8|                null|32636.639667408333| 958.215326067743|1285.630681853096|\n",
      "|    min|               46429|21 Century Teleco...|               949|     #SELFIEPARTY|                0|\n",
      "|    max|          1010558449|     umos Center LLC|            191504|Я – телохранитель|              997|\n",
      "+-------+--------------------+--------------------+------------------+-----------------+-----------------+\n",
      "\n"
     ]
    }
   ],
   "source": [
    "data.describe().show()"
   ]
  },
  {
   "cell_type": "markdown",
   "metadata": {},
   "source": [
    "**Какой фильм был просмотрен максимальным количеством человек?\n",
    "Какой пользователь посмотрел больше всех фильмов? **"
   ]
  },
  {
   "cell_type": "code",
   "execution_count": 13,
   "metadata": {},
   "outputs": [
    {
     "data": {
      "text/plain": [
       "[Row(content_title='Мастер и Маргарита', count=1586)]"
      ]
     },
     "execution_count": 13,
     "metadata": {},
     "output_type": "execute_result"
    }
   ],
   "source": [
    "data[data.show_duration != '0'].groupBy('content_title')\\\n",
    "    .agg(countDistinct('user_id').alias('count')).orderBy('count', ascending = False).head(1)"
   ]
  },
  {
   "cell_type": "code",
   "execution_count": 14,
   "metadata": {},
   "outputs": [
    {
     "data": {
      "text/plain": [
       "[Row(user_id=446413452, count=6)]"
      ]
     },
     "execution_count": 14,
     "metadata": {},
     "output_type": "execute_result"
    }
   ],
   "source": [
    "data.groupBy('user_id').agg(countDistinct('content_title').alias('count'))\\\n",
    "    .orderBy('count', ascending = False).head(1)"
   ]
  },
  {
   "cell_type": "markdown",
   "metadata": {},
   "source": [
    "** У какого оператора больше всего пользователей? **"
   ]
  },
  {
   "cell_type": "code",
   "execution_count": 15,
   "metadata": {},
   "outputs": [
    {
     "data": {
      "text/plain": [
       "[Row(operator_name='Rostelecom', count=2232)]"
      ]
     },
     "execution_count": 15,
     "metadata": {},
     "output_type": "execute_result"
    }
   ],
   "source": [
    "data.groupBy('operator_name').agg(countDistinct('user_id').alias('count'))\\\n",
    "    .orderBy('count', ascending = False).head(1)"
   ]
  },
  {
   "cell_type": "markdown",
   "metadata": {},
   "source": [
    "** Какой средний показатель по числу просмотренных фильмов среди мужчин - пользователей Ростелекома? **"
   ]
  },
  {
   "cell_type": "code",
   "execution_count": 23,
   "metadata": {},
   "outputs": [
    {
     "name": "stdout",
     "output_type": "stream",
     "text": [
      "+----------+--------------------+----------+--------------------+-------------+------+\n",
      "|   user_id|       operator_name|content_id|       content_title|show_duration|gender|\n",
      "+----------+--------------------+----------+--------------------+-------------+------+\n",
      "| 827375963|          Rostelecom|      9966|                Луна|         1400|  male|\n",
      "| 890810589|          LLC TOMTEL|     10140|             Солдаты|         1271|  male|\n",
      "| 929088258|OJS Moscow city t...|      9572|               Мажор|           30|  male|\n",
      "| 987577016|          Rostelecom|      8014|Клуб Винкс – Школ...|         1310|  male|\n",
      "| 573841374|OJS Moscow city t...|      9983|               Метод|         3205|female|\n",
      "| 757852413|Ekaterinburg-2000...|      9572|               Мажор|         3105|female|\n",
      "| 991611208|RECONN. Operator ...|      9983|               Метод|         2998|  male|\n",
      "| 914647005|          Rostelecom|      7097|      Закрытая школа|         2870|  male|\n",
      "| 924157490|Multiservice Netw...|     10073|             Косатка|         2569|  male|\n",
      "|1005188286|   Prime-Service LLC|      9572|               Мажор|         3095|  male|\n",
      "| 956265133|OJS Moscow city t...|     10427|Петровка, 38. Ком...|         3085|  male|\n",
      "| 736604024|     E-Light-Telecom|      9572|               Мажор|         3095|  male|\n",
      "| 852100063|     E-Light-Telecom|      9983|               Метод|         3111|female|\n",
      "| 966231004|Closed Joint Stoc...|      9195|Смерть шпионам: С...|            5|female|\n",
      "|1009409756|          Rostelecom|      9572|               Мажор|         3141|  male|\n",
      "| 617823607|     Novotelecom Ltd|      9786|        Женская доля|         1333|  male|\n",
      "| 785668819|  Teleseti Plus Ltd.|      7097|      Закрытая школа|         1165|  male|\n",
      "| 939987562|           OJSC RITC|      9572|               Мажор|           40|  male|\n",
      "| 986453029|PE Tsibrankov Kon...|      7097|      Закрытая школа|          632|  male|\n",
      "|1007882880|     E-Light-Telecom|     10208|Даша-путешественница|          240|  male|\n",
      "+----------+--------------------+----------+--------------------+-------------+------+\n",
      "only showing top 20 rows\n",
      "\n"
     ]
    }
   ],
   "source": [
    "data = data.withColumn('rand_num', rand())\n",
    "data = data.withColumn('gender', when(data['rand_num'] >= 0.4, 'male').otherwise('female')).drop('rand_num')\n",
    "data.show()"
   ]
  },
  {
   "cell_type": "code",
   "execution_count": 24,
   "metadata": {},
   "outputs": [
    {
     "data": {
      "text/plain": [
       "[Row(avg(count)=1.0210656753407683)]"
      ]
     },
     "execution_count": 24,
     "metadata": {},
     "output_type": "execute_result"
    }
   ],
   "source": [
    "data[(data.gender == 'male') & (data.operator_name == 'Rostelecom')]\\\n",
    "    .groupBy('user_id').agg(countDistinct('content_title').alias('count'))\\\n",
    "    .agg({'count': 'mean'}).collect()"
   ]
  },
  {
   "cell_type": "markdown",
   "metadata": {},
   "source": [
    "** Построить по данным файла content_watch.csv матрицу user-item **"
   ]
  },
  {
   "cell_type": "code",
   "execution_count": 30,
   "metadata": {},
   "outputs": [
    {
     "name": "stdout",
     "output_type": "stream",
     "text": [
      "+---------+-----------------------+\n",
      "|  user_id|collect_set(content_id)|\n",
      "+---------+-----------------------+\n",
      "|434539289|                [10209]|\n",
      "|471496565|                 [6859]|\n",
      "|512335285|                 [9570]|\n",
      "|584666375|                 [9478]|\n",
      "|603215036|                [10209]|\n",
      "|603694929|                 [7498]|\n",
      "|643879096|                 [9983]|\n",
      "|732456832|                [10121]|\n",
      "|732863641|                 [8190]|\n",
      "|761100659|                 [9108]|\n",
      "|803481291|                 [7121]|\n",
      "|804722319|                 [7651]|\n",
      "|808859842|                 [9399]|\n",
      "|826601258|                 [6859]|\n",
      "|828890717|                 [7312]|\n",
      "|829340245|                 [7607]|\n",
      "|854955816|                 [7305]|\n",
      "|855900980|                 [9547]|\n",
      "|857695481|                 [7305]|\n",
      "|866622249|                 [7607]|\n",
      "+---------+-----------------------+\n",
      "only showing top 20 rows\n",
      "\n"
     ]
    }
   ],
   "source": [
    "user_item = data.groupBy('user_id').agg(collect_set('content_id'))\n",
    "user_item.show()"
   ]
  },
  {
   "cell_type": "code",
   "execution_count": null,
   "metadata": {
    "collapsed": true
   },
   "outputs": [],
   "source": []
  }
 ],
 "metadata": {
  "kernelspec": {
   "display_name": "Python 3",
   "language": "python",
   "name": "python3"
  },
  "language_info": {
   "codemirror_mode": {
    "name": "ipython",
    "version": 3
   },
   "file_extension": ".py",
   "mimetype": "text/x-python",
   "name": "python",
   "nbconvert_exporter": "python",
   "pygments_lexer": "ipython3",
   "version": "3.5.2"
  }
 },
 "nbformat": 4,
 "nbformat_minor": 2
}
