{
 "cells": [
  {
   "cell_type": "code",
   "execution_count": 27,
   "metadata": {
    "collapsed": true
   },
   "outputs": [],
   "source": [
    "def check_bracket(string): \n",
    "    skobs = [j for j in string if j in ('(',')', '[',']','{','}')] # извлекаем из строки все скобки\n",
    "    d = {} # создадим словарь скобок\n",
    "    d['('] = ')'\n",
    "    d['['] = ']'\n",
    "    d['{'] = '}'\n",
    "    stack = []\n",
    "    i = 0\n",
    "    while i < len(skobs):\n",
    "        if skobs[i] in ('(','{','['):\n",
    "            stack.append(skobs[i]) # если скобка открывающая, то добавляем в стек\n",
    "            i += 1\n",
    "        else:\n",
    "            if len(stack) == 0: \n",
    "                return False # test2\n",
    "            else:    \n",
    "                if d[stack.pop()] == skobs[i]: # если ключ совпадает с элементом, то удаляем из списка обе скобки\n",
    "                    skobs.remove(skobs[i])\n",
    "                    skobs.remove(skobs[i-1])\n",
    "                    i -= 1\n",
    "                else:\n",
    "                    return False # test3\n",
    "    return True  # test1          "
   ]
  },
  {
   "cell_type": "code",
   "execution_count": 31,
   "metadata": {},
   "outputs": [
    {
     "name": "stdout",
     "output_type": "stream",
     "text": [
      "(A+B)*{A+C}\n"
     ]
    },
    {
     "data": {
      "text/plain": [
       "True"
      ]
     },
     "execution_count": 31,
     "metadata": {},
     "output_type": "execute_result"
    }
   ],
   "source": [
    "string = input()\n",
    "check_bracket(string)"
   ]
  },
  {
   "cell_type": "code",
   "execution_count": 32,
   "metadata": {},
   "outputs": [
    {
     "name": "stderr",
     "output_type": "stream",
     "text": [
      "...\n",
      "----------------------------------------------------------------------\n",
      "Ran 3 tests in 0.003s\n",
      "\n",
      "OK\n"
     ]
    },
    {
     "data": {
      "text/plain": [
       "<unittest.runner.TextTestResult run=3 errors=0 failures=0>"
      ]
     },
     "execution_count": 32,
     "metadata": {},
     "output_type": "execute_result"
    }
   ],
   "source": [
    "from unittest import *\n",
    "\n",
    "class test_check_bracket(TestCase):\n",
    "    def test1(self):\n",
    "        x = '[({A+B*C}-A)]'\n",
    "        self.assertEqual(check_bracket(x), True)\n",
    "        \n",
    "    def test2(self):\n",
    "        x = '}([A+B)*B])'\n",
    "        self.assertEqual(check_bracket(x), False)   \n",
    "        \n",
    "    def test3(self):\n",
    "        x = '[({A-D+W)**X]'\n",
    "        self.assertEqual(check_bracket(x), False)\n",
    "        \n",
    "a = test_check_bracket()\n",
    "\n",
    "suite = TestLoader().loadTestsFromModule(a)\n",
    "TextTestRunner().run(suite)  "
   ]
  },
  {
   "cell_type": "code",
   "execution_count": null,
   "metadata": {
    "collapsed": true
   },
   "outputs": [],
   "source": []
  }
 ],
 "metadata": {
  "kernelspec": {
   "display_name": "Python 3",
   "language": "python",
   "name": "python3"
  },
  "language_info": {
   "codemirror_mode": {
    "name": "ipython",
    "version": 3
   },
   "file_extension": ".py",
   "mimetype": "text/x-python",
   "name": "python",
   "nbconvert_exporter": "python",
   "pygments_lexer": "ipython3",
   "version": "3.5.2"
  }
 },
 "nbformat": 4,
 "nbformat_minor": 2
}
